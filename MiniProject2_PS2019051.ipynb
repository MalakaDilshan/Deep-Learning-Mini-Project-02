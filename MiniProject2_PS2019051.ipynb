{
  "nbformat": 4,
  "nbformat_minor": 0,
  "metadata": {
    "colab": {
      "provenance": []
    },
    "kernelspec": {
      "name": "python3",
      "display_name": "Python 3"
    },
    "language_info": {
      "name": "python"
    }
  },
  "cells": [
    {
      "cell_type": "markdown",
      "source": [
        "# **Introduction to Deep Learning**"
      ],
      "metadata": {
        "id": "jJmHS2RQdkPE"
      }
    },
    {
      "cell_type": "markdown",
      "source": [
        "# **Mini Project 2**"
      ],
      "metadata": {
        "id": "d3nIUyIfdpGM"
      }
    },
    {
      "cell_type": "markdown",
      "source": [
        "**Student Number - PS/2019/051 Name - PS/2019/051**"
      ],
      "metadata": {
        "id": "ofeVdCBpdcTD"
      }
    },
    {
      "cell_type": "markdown",
      "source": [
        "**Selected Company - Singer Srilanka**"
      ],
      "metadata": {
        "id": "tV59xTIZc7Ir"
      }
    },
    {
      "cell_type": "markdown",
      "source": [
        "# Import Libraries"
      ],
      "metadata": {
        "id": "kEF1coayb2Kb"
      }
    },
    {
      "cell_type": "code",
      "execution_count": 1,
      "metadata": {
        "id": "x0yiZmvhUGvf"
      },
      "outputs": [],
      "source": [
        "import numpy as np\n",
        "import pandas as pd\n",
        "import matplotlib.pyplot as plt\n",
        "from sklearn.preprocessing import MinMaxScaler\n",
        "from tensorflow.keras.models import Sequential\n",
        "from tensorflow.keras.layers import LSTM, Dense"
      ]
    },
    {
      "cell_type": "markdown",
      "source": [
        "# Mount Google Drive"
      ],
      "metadata": {
        "id": "IRLH5qGNVSVp"
      }
    },
    {
      "cell_type": "code",
      "source": [
        "from google.colab import drive\n",
        "import pandas as pd\n",
        "import numpy as np\n",
        "from sklearn.preprocessing import MinMaxScaler\n",
        "\n",
        "drive.mount('/content/drive')"
      ],
      "metadata": {
        "colab": {
          "base_uri": "https://localhost:8080/"
        },
        "id": "S5-Iu-GeVSpZ",
        "outputId": "ae696b94-9ac6-4b44-9d3b-91faf364bce0"
      },
      "execution_count": 2,
      "outputs": [
        {
          "output_type": "stream",
          "name": "stdout",
          "text": [
            "Mounted at /content/drive\n"
          ]
        }
      ]
    },
    {
      "cell_type": "markdown",
      "source": [
        "# Specify the path to the CSV file of the dataset on Google Drive"
      ],
      "metadata": {
        "id": "v0fXbT5pVk_i"
      }
    },
    {
      "cell_type": "code",
      "source": [
        "file_path = '/content/drive/MyDrive/Deep-Learning-MiniProject2_PS2019051/SINS Historical Data.csv'"
      ],
      "metadata": {
        "id": "8OGl-AM2VlKo"
      },
      "execution_count": 3,
      "outputs": []
    },
    {
      "cell_type": "markdown",
      "source": [
        "# Load Data"
      ],
      "metadata": {
        "id": "DdZi9dLEYXuW"
      }
    },
    {
      "cell_type": "code",
      "source": [
        "data = pd.read_csv(file_path)\n",
        "prices = data['Price'].values.reshape(-1, 1)"
      ],
      "metadata": {
        "id": "Vmi5DaxaYX7N"
      },
      "execution_count": 4,
      "outputs": []
    },
    {
      "cell_type": "markdown",
      "source": [
        "# Normalize Data"
      ],
      "metadata": {
        "id": "6T2lfsqoYlPN"
      }
    },
    {
      "cell_type": "code",
      "source": [
        "scaler = MinMaxScaler(feature_range=(0, 1))\n",
        "prices_normalized = scaler.fit_transform(prices)"
      ],
      "metadata": {
        "id": "qUKLYmrzYojN"
      },
      "execution_count": 5,
      "outputs": []
    },
    {
      "cell_type": "markdown",
      "source": [
        "# Split data into training and testing sets"
      ],
      "metadata": {
        "id": "7SBZfBFUYr6G"
      }
    },
    {
      "cell_type": "code",
      "source": [
        "split_ratio = 0.8\n",
        "split_index = int(len(prices_normalized) * split_ratio)\n",
        "train_data = prices_normalized[:split_index]\n",
        "test_data = prices_normalized[split_index:]"
      ],
      "metadata": {
        "id": "SXj7J0HhYsD-"
      },
      "execution_count": 6,
      "outputs": []
    },
    {
      "cell_type": "markdown",
      "source": [
        "# Prepare Data for LSTM"
      ],
      "metadata": {
        "id": "cLVbzuW5Yzw1"
      }
    },
    {
      "cell_type": "code",
      "source": [
        "def create_dataset(dataset, time_steps=1):\n",
        "    x, y = [], []\n",
        "    for i in range(len(dataset) - time_steps):\n",
        "        a = dataset[i:(i + time_steps), 0]\n",
        "        x.append(a)\n",
        "        y.append(dataset[i + time_steps, 0])\n",
        "    return np.array(x), np.array(y)\n",
        "\n",
        "time_steps = 10\n",
        "X_train, y_train = create_dataset(train_data, time_steps)\n",
        "X_test, y_test = create_dataset(test_data, time_steps)\n",
        "\n",
        "# Reshape input data to be in the form [samples, time steps, features]\n",
        "X_train = np.reshape(X_train, (X_train.shape[0], X_train.shape[1], 1))\n",
        "X_test = np.reshape(X_test, (X_test.shape[0], X_test.shape[1], 1))"
      ],
      "metadata": {
        "id": "bDfTUTOLZACu"
      },
      "execution_count": 7,
      "outputs": []
    },
    {
      "cell_type": "markdown",
      "source": [
        "# Build LSTM Model"
      ],
      "metadata": {
        "id": "Fdomaf9sZDQV"
      }
    },
    {
      "cell_type": "code",
      "source": [
        "model = Sequential()\n",
        "model.add(LSTM(units=50, return_sequences=True, input_shape=(X_train.shape[1], 1)))\n",
        "model.add(LSTM(units=50, return_sequences=True))\n",
        "model.add(LSTM(units=50))\n",
        "model.add(Dense(units=1))\n",
        "\n",
        "model.compile(optimizer='adam', loss='mean_squared_error')\n",
        "model.fit(X_train, y_train, epochs=100, batch_size=5)"
      ],
      "metadata": {
        "colab": {
          "base_uri": "https://localhost:8080/"
        },
        "id": "bHpYIpCNZH0d",
        "outputId": "0bb93cf8-9560-493a-8e9b-04a477ce44d0"
      },
      "execution_count": 12,
      "outputs": [
        {
          "output_type": "stream",
          "name": "stdout",
          "text": [
            "Epoch 1/100\n",
            "179/179 [==============================] - 8s 14ms/step - loss: 0.0066\n",
            "Epoch 2/100\n",
            "179/179 [==============================] - 3s 16ms/step - loss: 0.0035\n",
            "Epoch 3/100\n",
            "179/179 [==============================] - 3s 18ms/step - loss: 0.0029\n",
            "Epoch 4/100\n",
            "179/179 [==============================] - 2s 13ms/step - loss: 0.0029\n",
            "Epoch 5/100\n",
            "179/179 [==============================] - 2s 13ms/step - loss: 0.0023\n",
            "Epoch 6/100\n",
            "179/179 [==============================] - 2s 13ms/step - loss: 0.0020\n",
            "Epoch 7/100\n",
            "179/179 [==============================] - 3s 15ms/step - loss: 0.0016\n",
            "Epoch 8/100\n",
            "179/179 [==============================] - 4s 20ms/step - loss: 0.0013\n",
            "Epoch 9/100\n",
            "179/179 [==============================] - 2s 14ms/step - loss: 0.0014\n",
            "Epoch 10/100\n",
            "179/179 [==============================] - 2s 14ms/step - loss: 0.0013\n",
            "Epoch 11/100\n",
            "179/179 [==============================] - 2s 13ms/step - loss: 0.0011\n",
            "Epoch 12/100\n",
            "179/179 [==============================] - 2s 14ms/step - loss: 0.0014\n",
            "Epoch 13/100\n",
            "179/179 [==============================] - 4s 21ms/step - loss: 0.0010\n",
            "Epoch 14/100\n",
            "179/179 [==============================] - 2s 14ms/step - loss: 9.8493e-04\n",
            "Epoch 15/100\n",
            "179/179 [==============================] - 2s 14ms/step - loss: 0.0010\n",
            "Epoch 16/100\n",
            "179/179 [==============================] - 3s 19ms/step - loss: 9.1077e-04\n",
            "Epoch 17/100\n",
            "179/179 [==============================] - 3s 16ms/step - loss: 9.2262e-04\n",
            "Epoch 18/100\n",
            "179/179 [==============================] - 3s 18ms/step - loss: 7.8172e-04\n",
            "Epoch 19/100\n",
            "179/179 [==============================] - 2s 13ms/step - loss: 9.0440e-04\n",
            "Epoch 20/100\n",
            "179/179 [==============================] - 2s 13ms/step - loss: 9.3945e-04\n",
            "Epoch 21/100\n",
            "179/179 [==============================] - 2s 13ms/step - loss: 9.9053e-04\n",
            "Epoch 22/100\n",
            "179/179 [==============================] - 2s 14ms/step - loss: 8.2864e-04\n",
            "Epoch 23/100\n",
            "179/179 [==============================] - 4s 20ms/step - loss: 8.3569e-04\n",
            "Epoch 24/100\n",
            "179/179 [==============================] - 2s 13ms/step - loss: 8.7023e-04\n",
            "Epoch 25/100\n",
            "179/179 [==============================] - 2s 13ms/step - loss: 9.2605e-04\n",
            "Epoch 26/100\n",
            "179/179 [==============================] - 2s 13ms/step - loss: 8.4467e-04\n",
            "Epoch 27/100\n",
            "179/179 [==============================] - 2s 13ms/step - loss: 8.8690e-04\n",
            "Epoch 28/100\n",
            "179/179 [==============================] - 3s 19ms/step - loss: 7.9747e-04\n",
            "Epoch 29/100\n",
            "179/179 [==============================] - 3s 15ms/step - loss: 8.1198e-04\n",
            "Epoch 30/100\n",
            "179/179 [==============================] - 2s 13ms/step - loss: 7.6467e-04\n",
            "Epoch 31/100\n",
            "179/179 [==============================] - 2s 13ms/step - loss: 9.3729e-04\n",
            "Epoch 32/100\n",
            "179/179 [==============================] - 2s 13ms/step - loss: 7.8775e-04\n",
            "Epoch 33/100\n",
            "179/179 [==============================] - 3s 18ms/step - loss: 9.3116e-04\n",
            "Epoch 34/100\n",
            "179/179 [==============================] - 3s 17ms/step - loss: 8.3423e-04\n",
            "Epoch 35/100\n",
            "179/179 [==============================] - 2s 13ms/step - loss: 8.3643e-04\n",
            "Epoch 36/100\n",
            "179/179 [==============================] - 2s 13ms/step - loss: 8.0393e-04\n",
            "Epoch 37/100\n",
            "179/179 [==============================] - 2s 14ms/step - loss: 8.8630e-04\n",
            "Epoch 38/100\n",
            "179/179 [==============================] - 3s 16ms/step - loss: 8.0852e-04\n",
            "Epoch 39/100\n",
            "179/179 [==============================] - 3s 18ms/step - loss: 8.3190e-04\n",
            "Epoch 40/100\n",
            "179/179 [==============================] - 2s 13ms/step - loss: 7.5345e-04\n",
            "Epoch 41/100\n",
            "179/179 [==============================] - 2s 13ms/step - loss: 8.7308e-04\n",
            "Epoch 42/100\n",
            "179/179 [==============================] - 2s 13ms/step - loss: 7.2685e-04\n",
            "Epoch 43/100\n",
            "179/179 [==============================] - 3s 14ms/step - loss: 7.2500e-04\n",
            "Epoch 44/100\n",
            "179/179 [==============================] - 4s 20ms/step - loss: 7.6603e-04\n",
            "Epoch 45/100\n",
            "179/179 [==============================] - 2s 13ms/step - loss: 8.0819e-04\n",
            "Epoch 46/100\n",
            "179/179 [==============================] - 2s 13ms/step - loss: 7.7514e-04\n",
            "Epoch 47/100\n",
            "179/179 [==============================] - 2s 13ms/step - loss: 7.3591e-04\n",
            "Epoch 48/100\n",
            "179/179 [==============================] - 2s 13ms/step - loss: 7.0152e-04\n",
            "Epoch 49/100\n",
            "179/179 [==============================] - 4s 20ms/step - loss: 7.5145e-04\n",
            "Epoch 50/100\n",
            "179/179 [==============================] - 3s 15ms/step - loss: 7.9337e-04\n",
            "Epoch 51/100\n",
            "179/179 [==============================] - 2s 13ms/step - loss: 7.4937e-04\n",
            "Epoch 52/100\n",
            "179/179 [==============================] - 2s 14ms/step - loss: 7.7264e-04\n",
            "Epoch 53/100\n",
            "179/179 [==============================] - 2s 14ms/step - loss: 7.7827e-04\n",
            "Epoch 54/100\n",
            "179/179 [==============================] - 3s 19ms/step - loss: 7.4077e-04\n",
            "Epoch 55/100\n",
            "179/179 [==============================] - 3s 16ms/step - loss: 7.4051e-04\n",
            "Epoch 56/100\n",
            "179/179 [==============================] - 3s 16ms/step - loss: 7.5455e-04\n",
            "Epoch 57/100\n",
            "179/179 [==============================] - 2s 14ms/step - loss: 7.6602e-04\n",
            "Epoch 58/100\n",
            "179/179 [==============================] - 2s 14ms/step - loss: 8.0954e-04\n",
            "Epoch 59/100\n",
            "179/179 [==============================] - 3s 19ms/step - loss: 7.9479e-04\n",
            "Epoch 60/100\n",
            "179/179 [==============================] - 3s 15ms/step - loss: 7.1752e-04\n",
            "Epoch 61/100\n",
            "179/179 [==============================] - 2s 13ms/step - loss: 7.6439e-04\n",
            "Epoch 62/100\n",
            "179/179 [==============================] - 2s 13ms/step - loss: 7.3310e-04\n",
            "Epoch 63/100\n",
            "179/179 [==============================] - 2s 14ms/step - loss: 7.7663e-04\n",
            "Epoch 64/100\n",
            "179/179 [==============================] - 3s 18ms/step - loss: 7.4972e-04\n",
            "Epoch 65/100\n",
            "179/179 [==============================] - 3s 17ms/step - loss: 7.7459e-04\n",
            "Epoch 66/100\n",
            "179/179 [==============================] - 2s 14ms/step - loss: 7.5563e-04\n",
            "Epoch 67/100\n",
            "179/179 [==============================] - 2s 13ms/step - loss: 7.5627e-04\n",
            "Epoch 68/100\n",
            "179/179 [==============================] - 2s 14ms/step - loss: 7.3292e-04\n",
            "Epoch 69/100\n",
            "179/179 [==============================] - 3s 17ms/step - loss: 7.7236e-04\n",
            "Epoch 70/100\n",
            "179/179 [==============================] - 3s 18ms/step - loss: 6.8900e-04\n",
            "Epoch 71/100\n",
            "179/179 [==============================] - 2s 14ms/step - loss: 7.1202e-04\n",
            "Epoch 72/100\n",
            "179/179 [==============================] - 2s 13ms/step - loss: 7.1730e-04\n",
            "Epoch 73/100\n",
            "179/179 [==============================] - 2s 14ms/step - loss: 7.3944e-04\n",
            "Epoch 74/100\n",
            "179/179 [==============================] - 3s 16ms/step - loss: 7.4172e-04\n",
            "Epoch 75/100\n",
            "179/179 [==============================] - 3s 18ms/step - loss: 7.1048e-04\n",
            "Epoch 76/100\n",
            "179/179 [==============================] - 2s 14ms/step - loss: 7.8509e-04\n",
            "Epoch 77/100\n",
            "179/179 [==============================] - 2s 13ms/step - loss: 7.4921e-04\n",
            "Epoch 78/100\n",
            "179/179 [==============================] - 2s 13ms/step - loss: 7.9382e-04\n",
            "Epoch 79/100\n",
            "179/179 [==============================] - 4s 22ms/step - loss: 7.5017e-04\n",
            "Epoch 80/100\n",
            "179/179 [==============================] - 3s 18ms/step - loss: 7.4018e-04\n",
            "Epoch 81/100\n",
            "179/179 [==============================] - 2s 13ms/step - loss: 7.3310e-04\n",
            "Epoch 82/100\n",
            "179/179 [==============================] - 2s 13ms/step - loss: 7.1453e-04\n",
            "Epoch 83/100\n",
            "179/179 [==============================] - 2s 14ms/step - loss: 7.7093e-04\n",
            "Epoch 84/100\n",
            "179/179 [==============================] - 3s 15ms/step - loss: 7.4610e-04\n",
            "Epoch 85/100\n",
            "179/179 [==============================] - 3s 18ms/step - loss: 6.9578e-04\n",
            "Epoch 86/100\n",
            "179/179 [==============================] - 2s 13ms/step - loss: 6.9183e-04\n",
            "Epoch 87/100\n",
            "179/179 [==============================] - 2s 13ms/step - loss: 8.0430e-04\n",
            "Epoch 88/100\n",
            "179/179 [==============================] - 2s 13ms/step - loss: 7.1819e-04\n",
            "Epoch 89/100\n",
            "179/179 [==============================] - 3s 14ms/step - loss: 7.3049e-04\n",
            "Epoch 90/100\n",
            "179/179 [==============================] - 4s 21ms/step - loss: 7.4590e-04\n",
            "Epoch 91/100\n",
            "179/179 [==============================] - 2s 14ms/step - loss: 6.9318e-04\n",
            "Epoch 92/100\n",
            "179/179 [==============================] - 2s 13ms/step - loss: 7.3712e-04\n",
            "Epoch 93/100\n",
            "179/179 [==============================] - 2s 13ms/step - loss: 6.8758e-04\n",
            "Epoch 94/100\n",
            "179/179 [==============================] - 2s 13ms/step - loss: 7.3055e-04\n",
            "Epoch 95/100\n",
            "179/179 [==============================] - 4s 20ms/step - loss: 7.2183e-04\n",
            "Epoch 96/100\n",
            "179/179 [==============================] - 3s 15ms/step - loss: 7.6967e-04\n",
            "Epoch 97/100\n",
            "179/179 [==============================] - 2s 13ms/step - loss: 7.2899e-04\n",
            "Epoch 98/100\n",
            "179/179 [==============================] - 2s 13ms/step - loss: 7.1899e-04\n",
            "Epoch 99/100\n",
            "179/179 [==============================] - 2s 13ms/step - loss: 7.6344e-04\n",
            "Epoch 100/100\n",
            "179/179 [==============================] - 3s 18ms/step - loss: 6.9542e-04\n"
          ]
        },
        {
          "output_type": "execute_result",
          "data": {
            "text/plain": [
              "<keras.src.callbacks.History at 0x7dbe81a21570>"
            ]
          },
          "metadata": {},
          "execution_count": 12
        }
      ]
    },
    {
      "cell_type": "markdown",
      "source": [
        "# Predictions"
      ],
      "metadata": {
        "id": "AuPCaxeWZWmk"
      }
    },
    {
      "cell_type": "code",
      "source": [
        "predicted_stock_prices = model.predict(X_test)\n",
        "predicted_stock_prices = scaler.inverse_transform(predicted_stock_prices.reshape(-1, 1))\n",
        "\n",
        "# Plot the results\n",
        "plt.plot(data['Date'][split_index + time_steps:], predicted_stock_prices, label='Predicted Prices')\n",
        "plt.plot(data['Date'][split_index + time_steps:], scaler.inverse_transform(test_data[time_steps:].reshape(-1, 1)),\n",
        "         label='Actual Prices')\n",
        "plt.xlabel('Date')\n",
        "plt.ylabel('Stock Price')\n",
        "plt.legend()\n",
        "plt.show()"
      ],
      "metadata": {
        "colab": {
          "base_uri": "https://localhost:8080/",
          "height": 466
        },
        "id": "tIXLT462ZZUF",
        "outputId": "d94c6bf8-c64f-4705-9f92-afe445f9c362"
      },
      "execution_count": 13,
      "outputs": [
        {
          "output_type": "stream",
          "name": "stdout",
          "text": [
            "7/7 [==============================] - 1s 5ms/step\n"
          ]
        },
        {
          "output_type": "display_data",
          "data": {
            "text/plain": [
              "<Figure size 640x480 with 1 Axes>"
            ],
            "image/png": "[encoded data removed]"
          },
          "metadata": {}
        }
      ]
    },
    {
      "cell_type": "markdown",
      "source": [
        "# Comparison of the Prediced Prices with the Actual Prices"
      ],
      "metadata": {
        "id": "-58rB7vEZggd"
      }
    },
    {
      "cell_type": "code",
      "source": [
        "# Combine actual and predicted prices into a DataFrame for easier printing\n",
        "results_df = pd.DataFrame({\n",
        "    'Date': data['Date'][split_index + time_steps:],\n",
        "    'Actual Prices': scaler.inverse_transform(test_data[time_steps:].reshape(-1, 1)).flatten(),\n",
        "    'Predicted Prices': predicted_stock_prices.flatten()\n",
        "})\n",
        "\n",
        "# Print the DataFrame\n",
        "print(results_df)"
      ],
      "metadata": {
        "colab": {
          "base_uri": "https://localhost:8080/"
        },
        "id": "BC9A9gJYZm7e",
        "outputId": "c6cb4e05-0a62-4ba8-b3da-997966acbe04"
      },
      "execution_count": 14,
      "outputs": [
        {
          "output_type": "stream",
          "name": "stdout",
          "text": [
            "            Date  Actual Prices  Predicted Prices\n",
            "914   12/31/2019          11.97         11.806500\n",
            "915   12/30/2019          12.00         11.870392\n",
            "916   12/27/2019          12.27         11.924781\n",
            "917   12/26/2019          12.23         12.195245\n",
            "918   12/24/2019          11.63         12.199112\n",
            "...          ...            ...               ...\n",
            "1125  01/08/2019          29.00         28.722057\n",
            "1126  01/07/2019          30.00         28.260550\n",
            "1127  01/04/2019          30.00         28.762913\n",
            "1128  01/03/2019          29.50         28.868216\n",
            "1129  01/02/2019          29.00         28.581795\n",
            "\n",
            "[216 rows x 3 columns]\n"
          ]
        }
      ]
    },
    {
      "cell_type": "markdown",
      "source": [
        "# Assess the performance of the model by computing the root mean squared error (RMSE)"
      ],
      "metadata": {
        "id": "TShqcPU4Zq5-"
      }
    },
    {
      "cell_type": "code",
      "source": [
        "from sklearn.metrics import mean_squared_error\n",
        "from math import sqrt\n",
        "\n",
        "# Make predictions on the test data\n",
        "predicted_stock_prices = model.predict(X_test)\n",
        "predicted_stock_prices = scaler.inverse_transform(predicted_stock_prices.reshape(-1, 1))\n",
        "\n",
        "# Inverse transform the original test data for comparison\n",
        "actual_stock_prices = scaler.inverse_transform(test_data[time_steps:].reshape(-1, 1))\n",
        "\n",
        "# Calculate RMSE\n",
        "rmse = sqrt(mean_squared_error(actual_stock_prices, predicted_stock_prices))\n",
        "print(f'Root Mean Squared Error (RMSE): {rmse}')"
      ],
      "metadata": {
        "colab": {
          "base_uri": "https://localhost:8080/"
        },
        "id": "uQdVOmssZ3MK",
        "outputId": "bc6d07bf-f185-4cc6-f042-4ae98bad2077"
      },
      "execution_count": 15,
      "outputs": [
        {
          "output_type": "stream",
          "name": "stdout",
          "text": [
            "7/7 [==============================] - 0s 6ms/step\n",
            "Root Mean Squared Error (RMSE): 1.4981372875115073\n"
          ]
        }
      ]
    }
  ]
}